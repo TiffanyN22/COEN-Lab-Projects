{
 "cells": [
  {
   "cell_type": "markdown",
   "id": "c3e04817",
   "metadata": {},
   "source": [
    "# Lab 1\n",
    "by Tiffany Nguyen\n",
    "## Part 1: N Odd Numbers\n",
    "Instructions: Define a function that takes an argument n and returns a list of odd numbers from 0 to n"
   ]
  },
  {
   "cell_type": "code",
   "execution_count": 2,
   "id": "c760e5b8",
   "metadata": {},
   "outputs": [
    {
     "name": "stdout",
     "output_type": "stream",
     "text": [
      "[1, 3, 5, 7, 9]\n",
      "[1]\n"
     ]
    }
   ],
   "source": [
    "def oddNumbers(n):\n",
    "    oddNumList = list()\n",
    "    for i in range(1, n + 1, 2):\n",
    "        oddNumList.append(i)\n",
    "    return oddNumList\n",
    "\n",
    "print(oddNumbers(10))\n",
    "print(oddNumbers(1))"
   ]
  },
  {
   "cell_type": "markdown",
   "id": "09ff4cdb",
   "metadata": {},
   "source": [
    "## Part 2: Read a CSV file\n",
    "Instructions:\n",
    "- Read the CSV file\n",
    "- Sort the names list from the file\n",
    "- Sort by age"
   ]
  },
  {
   "cell_type": "code",
   "execution_count": 3,
   "id": "ac05f2b8",
   "metadata": {},
   "outputs": [],
   "source": [
    "import csv"
   ]
  },
  {
   "cell_type": "code",
   "execution_count": 4,
   "id": "1fb98eaf",
   "metadata": {},
   "outputs": [
    {
     "name": "stdout",
     "output_type": "stream",
     "text": [
      "[['Shannon', 18, 'AMTH'], ['Mike', 22, 'CSEN'], ['Daniel', 21, 'MECH'], ['Ryan', 19, 'ELEN'], ['Joe', 23, 'BIOE']]\n"
     ]
    }
   ],
   "source": [
    "def readCsvFile():\n",
    "    filePath = \"/Users/tiffanynguyen/Downloads/tagged/SCU/COEN 140/Lab/Lab 1/students.csv\"\n",
    "    with open(filePath, 'r', newline='') as f:\n",
    "        reader = csv.reader(f, delimiter=',')\n",
    "        rows = [[row[0], int(row[1]), row[2]] for row in reader if row]\n",
    "    return rows\n",
    "\n",
    "print(readCsvFile())"
   ]
  },
  {
   "cell_type": "code",
   "execution_count": 6,
   "id": "b32a1d95",
   "metadata": {},
   "outputs": [],
   "source": [
    "import pandas as pd"
   ]
  },
  {
   "cell_type": "code",
   "execution_count": 7,
   "id": "312eaa3c",
   "metadata": {},
   "outputs": [
    {
     "name": "stdout",
     "output_type": "stream",
     "text": [
      "Sorted By Name: [['Daniel', 21, 'MECH'], ['Joe', 23, 'BIOE'], ['Mike', 22, 'CSEN'], ['Ryan', 19, 'ELEN'], ['Shannon', 18, 'AMTH']]\n"
     ]
    }
   ],
   "source": [
    "def sortedByName():\n",
    "    df = pd.DataFrame(readCsvFile(), columns= [\"Name\", \"Age\", \"Major\"])\n",
    "    return df.sort_values([\"Name\"], ascending=[True]).values.tolist()\n",
    "print(\"Sorted By Name:\", sortedByName())"
   ]
  },
  {
   "cell_type": "code",
   "execution_count": 8,
   "id": "6be1a00c",
   "metadata": {},
   "outputs": [
    {
     "name": "stdout",
     "output_type": "stream",
     "text": [
      "Sorted By Age: [['Shannon', 18, 'AMTH'], ['Ryan', 19, 'ELEN'], ['Daniel', 21, 'MECH'], ['Mike', 22, 'CSEN'], ['Joe', 23, 'BIOE']]\n"
     ]
    }
   ],
   "source": [
    "def sortedByAge():\n",
    "    df = pd.DataFrame(readCsvFile(), columns= [\"Name\", \"Age\", \"Major\"])\n",
    "    return df.sort_values([\"Age\"], ascending=[True]).values.tolist()\n",
    "print(\"Sorted By Age:\", sortedByAge())"
   ]
  },
  {
   "cell_type": "markdown",
   "id": "386c6755",
   "metadata": {},
   "source": [
    "## Part 3: Character Frequency\n",
    "Instructions: Define a function that counts the frequency of each character in a string and returns the\n",
    "most frequent character."
   ]
  },
  {
   "cell_type": "code",
   "execution_count": 9,
   "id": "b9451123",
   "metadata": {},
   "outputs": [
    {
     "name": "stdout",
     "output_type": "stream",
     "text": [
      "['t', 's']\n",
      "['l']\n"
     ]
    }
   ],
   "source": [
    "def charFrequency(string):\n",
    "    charDict = dict()\n",
    "    for letter in string:\n",
    "        charDict[letter] = (charDict.get(letter, 0)) + 1\n",
    "    maxValue = max(charDict.values())\n",
    "    return [key for key, value in charDict.items() if value == maxValue]\n",
    "print(charFrequency(\"tests\"))\n",
    "print(charFrequency(\"Hello World\"))"
   ]
  },
  {
   "cell_type": "markdown",
   "id": "98a348e9",
   "metadata": {},
   "source": [
    "## Part 4: Import a module\n",
    "Instructions: Use a function from that module in some way"
   ]
  },
  {
   "cell_type": "code",
   "execution_count": 10,
   "id": "0f70e212",
   "metadata": {},
   "outputs": [],
   "source": [
    "import math"
   ]
  },
  {
   "cell_type": "code",
   "execution_count": 11,
   "id": "45520521",
   "metadata": {},
   "outputs": [
    {
     "name": "stdout",
     "output_type": "stream",
     "text": [
      "6\n"
     ]
    }
   ],
   "source": [
    "print(math.ceil(5.3))"
   ]
  }
 ],
 "metadata": {
  "kernelspec": {
   "display_name": "Python 3 (ipykernel)",
   "language": "python",
   "name": "python3"
  },
  "language_info": {
   "codemirror_mode": {
    "name": "ipython",
    "version": 3
   },
   "file_extension": ".py",
   "mimetype": "text/x-python",
   "name": "python",
   "nbconvert_exporter": "python",
   "pygments_lexer": "ipython3",
   "version": "3.12.6"
  }
 },
 "nbformat": 4,
 "nbformat_minor": 5
}
