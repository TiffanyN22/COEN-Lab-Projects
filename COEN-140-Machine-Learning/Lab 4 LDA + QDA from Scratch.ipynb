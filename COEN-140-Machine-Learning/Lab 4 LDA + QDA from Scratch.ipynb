{
 "cells": [
  {
   "cell_type": "markdown",
   "id": "27dbed62",
   "metadata": {},
   "source": [
    "# Lab 4: LDA and QDA from Scratch\n",
    "## by Tiffany Nguyen\n",
    "The purpose to this lab is to code a Linear Discriminant Analysis and Quadratic Discriminant Analysis model to classify data from the Iris dataset without using a machine learning library\n",
    "## Part 1: Parsing and Dividing Data"
   ]
  },
  {
   "cell_type": "code",
   "execution_count": 102,
   "id": "efb23f31",
   "metadata": {},
   "outputs": [],
   "source": [
    "import numpy as np"
   ]
  },
  {
   "cell_type": "code",
   "execution_count": 103,
   "id": "8430fdbe",
   "metadata": {},
   "outputs": [
    {
     "name": "stdout",
     "output_type": "stream",
     "text": [
      "[[5.1 3.5 1.4 0.2 'Iris-setosa']\n",
      " [4.9 3.0 1.4 0.2 'Iris-setosa']\n",
      " [4.7 3.2 1.3 0.2 'Iris-setosa']\n",
      " [4.6 3.1 1.5 0.2 'Iris-setosa']\n",
      " [5.0 3.6 1.4 0.2 'Iris-setosa']\n",
      " [5.4 3.9 1.7 0.4 'Iris-setosa']\n",
      " [4.6 3.4 1.4 0.3 'Iris-setosa']\n",
      " [5.0 3.4 1.5 0.2 'Iris-setosa']\n",
      " [4.4 2.9 1.4 0.2 'Iris-setosa']\n",
      " [4.9 3.1 1.5 0.1 'Iris-setosa']\n",
      " [5.4 3.7 1.5 0.2 'Iris-setosa']\n",
      " [4.8 3.4 1.6 0.2 'Iris-setosa']\n",
      " [4.8 3.0 1.4 0.1 'Iris-setosa']\n",
      " [4.3 3.0 1.1 0.1 'Iris-setosa']\n",
      " [5.8 4.0 1.2 0.2 'Iris-setosa']\n",
      " [5.7 4.4 1.5 0.4 'Iris-setosa']\n",
      " [5.4 3.9 1.3 0.4 'Iris-setosa']\n",
      " [5.1 3.5 1.4 0.3 'Iris-setosa']\n",
      " [5.7 3.8 1.7 0.3 'Iris-setosa']\n",
      " [5.1 3.8 1.5 0.3 'Iris-setosa']\n",
      " [5.4 3.4 1.7 0.2 'Iris-setosa']\n",
      " [5.1 3.7 1.5 0.4 'Iris-setosa']\n",
      " [4.6 3.6 1.0 0.2 'Iris-setosa']\n",
      " [5.1 3.3 1.7 0.5 'Iris-setosa']\n",
      " [4.8 3.4 1.9 0.2 'Iris-setosa']\n",
      " [5.0 3.0 1.6 0.2 'Iris-setosa']\n",
      " [5.0 3.4 1.6 0.4 'Iris-setosa']\n",
      " [5.2 3.5 1.5 0.2 'Iris-setosa']\n",
      " [5.2 3.4 1.4 0.2 'Iris-setosa']\n",
      " [4.7 3.2 1.6 0.2 'Iris-setosa']\n",
      " [4.8 3.1 1.6 0.2 'Iris-setosa']\n",
      " [5.4 3.4 1.5 0.4 'Iris-setosa']\n",
      " [5.2 4.1 1.5 0.1 'Iris-setosa']\n",
      " [5.5 4.2 1.4 0.2 'Iris-setosa']\n",
      " [4.9 3.1 1.5 0.1 'Iris-setosa']\n",
      " [5.0 3.2 1.2 0.2 'Iris-setosa']\n",
      " [5.5 3.5 1.3 0.2 'Iris-setosa']\n",
      " [4.9 3.1 1.5 0.1 'Iris-setosa']\n",
      " [4.4 3.0 1.3 0.2 'Iris-setosa']\n",
      " [5.1 3.4 1.5 0.2 'Iris-setosa']\n",
      " [5.0 3.5 1.3 0.3 'Iris-setosa']\n",
      " [4.5 2.3 1.3 0.3 'Iris-setosa']\n",
      " [4.4 3.2 1.3 0.2 'Iris-setosa']\n",
      " [5.0 3.5 1.6 0.6 'Iris-setosa']\n",
      " [5.1 3.8 1.9 0.4 'Iris-setosa']\n",
      " [4.8 3.0 1.4 0.3 'Iris-setosa']\n",
      " [5.1 3.8 1.6 0.2 'Iris-setosa']\n",
      " [4.6 3.2 1.4 0.2 'Iris-setosa']\n",
      " [5.3 3.7 1.5 0.2 'Iris-setosa']\n",
      " [5.0 3.3 1.4 0.2 'Iris-setosa']\n",
      " [7.0 3.2 4.7 1.4 'Iris-versicolor']\n",
      " [6.4 3.2 4.5 1.5 'Iris-versicolor']\n",
      " [6.9 3.1 4.9 1.5 'Iris-versicolor']\n",
      " [5.5 2.3 4.0 1.3 'Iris-versicolor']\n",
      " [6.5 2.8 4.6 1.5 'Iris-versicolor']\n",
      " [5.7 2.8 4.5 1.3 'Iris-versicolor']\n",
      " [6.3 3.3 4.7 1.6 'Iris-versicolor']\n",
      " [4.9 2.4 3.3 1.0 'Iris-versicolor']\n",
      " [6.6 2.9 4.6 1.3 'Iris-versicolor']\n",
      " [5.2 2.7 3.9 1.4 'Iris-versicolor']\n",
      " [5.0 2.0 3.5 1.0 'Iris-versicolor']\n",
      " [5.9 3.0 4.2 1.5 'Iris-versicolor']\n",
      " [6.0 2.2 4.0 1.0 'Iris-versicolor']\n",
      " [6.1 2.9 4.7 1.4 'Iris-versicolor']\n",
      " [5.6 2.9 3.6 1.3 'Iris-versicolor']\n",
      " [6.7 3.1 4.4 1.4 'Iris-versicolor']\n",
      " [5.6 3.0 4.5 1.5 'Iris-versicolor']\n",
      " [5.8 2.7 4.1 1.0 'Iris-versicolor']\n",
      " [6.2 2.2 4.5 1.5 'Iris-versicolor']\n",
      " [5.6 2.5 3.9 1.1 'Iris-versicolor']\n",
      " [5.9 3.2 4.8 1.8 'Iris-versicolor']\n",
      " [6.1 2.8 4.0 1.3 'Iris-versicolor']\n",
      " [6.3 2.5 4.9 1.5 'Iris-versicolor']\n",
      " [6.1 2.8 4.7 1.2 'Iris-versicolor']\n",
      " [6.4 2.9 4.3 1.3 'Iris-versicolor']\n",
      " [6.6 3.0 4.4 1.4 'Iris-versicolor']\n",
      " [6.8 2.8 4.8 1.4 'Iris-versicolor']\n",
      " [6.7 3.0 5.0 1.7 'Iris-versicolor']\n",
      " [6.0 2.9 4.5 1.5 'Iris-versicolor']\n",
      " [5.7 2.6 3.5 1.0 'Iris-versicolor']\n",
      " [5.5 2.4 3.8 1.1 'Iris-versicolor']\n",
      " [5.5 2.4 3.7 1.0 'Iris-versicolor']\n",
      " [5.8 2.7 3.9 1.2 'Iris-versicolor']\n",
      " [6.0 2.7 5.1 1.6 'Iris-versicolor']\n",
      " [5.4 3.0 4.5 1.5 'Iris-versicolor']\n",
      " [6.0 3.4 4.5 1.6 'Iris-versicolor']\n",
      " [6.7 3.1 4.7 1.5 'Iris-versicolor']\n",
      " [6.3 2.3 4.4 1.3 'Iris-versicolor']\n",
      " [5.6 3.0 4.1 1.3 'Iris-versicolor']\n",
      " [5.5 2.5 4.0 1.3 'Iris-versicolor']\n",
      " [5.5 2.6 4.4 1.2 'Iris-versicolor']\n",
      " [6.1 3.0 4.6 1.4 'Iris-versicolor']\n",
      " [5.8 2.6 4.0 1.2 'Iris-versicolor']\n",
      " [5.0 2.3 3.3 1.0 'Iris-versicolor']\n",
      " [5.6 2.7 4.2 1.3 'Iris-versicolor']\n",
      " [5.7 3.0 4.2 1.2 'Iris-versicolor']\n",
      " [5.7 2.9 4.2 1.3 'Iris-versicolor']\n",
      " [6.2 2.9 4.3 1.3 'Iris-versicolor']\n",
      " [5.1 2.5 3.0 1.1 'Iris-versicolor']\n",
      " [5.7 2.8 4.1 1.3 'Iris-versicolor']\n",
      " [6.3 3.3 6.0 2.5 'Iris-virginica']\n",
      " [5.8 2.7 5.1 1.9 'Iris-virginica']\n",
      " [7.1 3.0 5.9 2.1 'Iris-virginica']\n",
      " [6.3 2.9 5.6 1.8 'Iris-virginica']\n",
      " [6.5 3.0 5.8 2.2 'Iris-virginica']\n",
      " [7.6 3.0 6.6 2.1 'Iris-virginica']\n",
      " [4.9 2.5 4.5 1.7 'Iris-virginica']\n",
      " [7.3 2.9 6.3 1.8 'Iris-virginica']\n",
      " [6.7 2.5 5.8 1.8 'Iris-virginica']\n",
      " [7.2 3.6 6.1 2.5 'Iris-virginica']\n",
      " [6.5 3.2 5.1 2.0 'Iris-virginica']\n",
      " [6.4 2.7 5.3 1.9 'Iris-virginica']\n",
      " [6.8 3.0 5.5 2.1 'Iris-virginica']\n",
      " [5.7 2.5 5.0 2.0 'Iris-virginica']\n",
      " [5.8 2.8 5.1 2.4 'Iris-virginica']\n",
      " [6.4 3.2 5.3 2.3 'Iris-virginica']\n",
      " [6.5 3.0 5.5 1.8 'Iris-virginica']\n",
      " [7.7 3.8 6.7 2.2 'Iris-virginica']\n",
      " [7.7 2.6 6.9 2.3 'Iris-virginica']\n",
      " [6.0 2.2 5.0 1.5 'Iris-virginica']\n",
      " [6.9 3.2 5.7 2.3 'Iris-virginica']\n",
      " [5.6 2.8 4.9 2.0 'Iris-virginica']\n",
      " [7.7 2.8 6.7 2.0 'Iris-virginica']\n",
      " [6.3 2.7 4.9 1.8 'Iris-virginica']\n",
      " [6.7 3.3 5.7 2.1 'Iris-virginica']\n",
      " [7.2 3.2 6.0 1.8 'Iris-virginica']\n",
      " [6.2 2.8 4.8 1.8 'Iris-virginica']\n",
      " [6.1 3.0 4.9 1.8 'Iris-virginica']\n",
      " [6.4 2.8 5.6 2.1 'Iris-virginica']\n",
      " [7.2 3.0 5.8 1.6 'Iris-virginica']\n",
      " [7.4 2.8 6.1 1.9 'Iris-virginica']\n",
      " [7.9 3.8 6.4 2.0 'Iris-virginica']\n",
      " [6.4 2.8 5.6 2.2 'Iris-virginica']\n",
      " [6.3 2.8 5.1 1.5 'Iris-virginica']\n",
      " [6.1 2.6 5.6 1.4 'Iris-virginica']\n",
      " [7.7 3.0 6.1 2.3 'Iris-virginica']\n",
      " [6.3 3.4 5.6 2.4 'Iris-virginica']\n",
      " [6.4 3.1 5.5 1.8 'Iris-virginica']\n",
      " [6.0 3.0 4.8 1.8 'Iris-virginica']\n",
      " [6.9 3.1 5.4 2.1 'Iris-virginica']\n",
      " [6.7 3.1 5.6 2.4 'Iris-virginica']\n",
      " [6.9 3.1 5.1 2.3 'Iris-virginica']\n",
      " [5.8 2.7 5.1 1.9 'Iris-virginica']\n",
      " [6.8 3.2 5.9 2.3 'Iris-virginica']\n",
      " [6.7 3.3 5.7 2.5 'Iris-virginica']\n",
      " [6.7 3.0 5.2 2.3 'Iris-virginica']\n",
      " [6.3 2.5 5.0 1.9 'Iris-virginica']\n",
      " [6.5 3.0 5.2 2.0 'Iris-virginica']\n",
      " [6.2 3.4 5.4 2.3 'Iris-virginica']\n",
      " [5.9 3.0 5.1 1.8 'Iris-virginica']]\n"
     ]
    }
   ],
   "source": [
    "# Read all data\n",
    "allData = np.empty((0, 5))\n",
    "with open(\"iris.txt\", \"r\") as filestream:\n",
    "  for line in filestream:\n",
    "    currentline = line.strip().split(\",\")\n",
    "    allData = np.append(allData, [np.array([float(currentline[0]), float(currentline[1]), float(currentline[2]), float(currentline[3]), currentline[4]], dtype=object)], axis=0)\n",
    "print(allData)"
   ]
  },
  {
   "cell_type": "code",
   "execution_count": 104,
   "id": "62227e82",
   "metadata": {},
   "outputs": [],
   "source": [
    "# separate data by category\n",
    "irisSetosaData = allData[0:50]\n",
    "irisVersicolorData = allData[50:100]\n",
    "irisVirginicaData = allData[100:150]\n",
    "# print(irisVirginicaData)"
   ]
  },
  {
   "cell_type": "code",
   "execution_count": 105,
   "id": "82635b23",
   "metadata": {},
   "outputs": [],
   "source": [
    "# Break into training and testing dataset (80% train, 20% test)\n",
    "irisSetosaTrain = irisSetosaData[0:40]\n",
    "irisSetosaTest = irisSetosaData[40:50]\n",
    "irisVersicolorTrain = irisVersicolorData[0:40]\n",
    "irisVersicolorTest = irisVersicolorData[40:50]\n",
    "irisVirginicaTrain = irisVirginicaData[0:40]\n",
    "irisVirginicaTest = irisVirginicaData[40:50]"
   ]
  },
  {
   "cell_type": "markdown",
   "id": "627b9f8f",
   "metadata": {},
   "source": [
    "## Part 2: Build QDA Classifier\n",
    "### Training"
   ]
  },
  {
   "cell_type": "code",
   "execution_count": 106,
   "id": "f5323ddf",
   "metadata": {},
   "outputs": [
    {
     "name": "stdout",
     "output_type": "stream",
     "text": [
      "iris setosa\n",
      "N: 40\n",
      "Mu: [5.0375 3.4400000000000004 1.4625 0.23249999999999993]\n",
      "Covariance:\n",
      " [[0.12784374999999998 0.09649999999999997 0.012656249999999997\n",
      "  0.013281249999999994]\n",
      " [0.09649999999999997 0.12939999999999996 0.0019999999999999896\n",
      "  0.014199999999999996]\n",
      " [0.012656249999999997 0.0019999999999999896 0.02884375000000001\n",
      "  0.004468749999999998]\n",
      " [0.013281249999999994 0.014199999999999996 0.004468749999999998\n",
      "  0.00969375]]\n",
      "Covariance shape: (4, 4)\n"
     ]
    }
   ],
   "source": [
    "print(\"iris setosa\")\n",
    "\n",
    "# calculate N\n",
    "irisSetosaN = len(irisSetosaTrain)\n",
    "print(\"N:\", irisSetosaN)\n",
    "\n",
    "#calculate mu (average)\n",
    "irisSetosaMu = np.mean(irisSetosaTrain[:, 0:4], axis=0)\n",
    "print(\"Mu:\", irisSetosaMu)\n",
    "\n",
    "# calculate covariance\n",
    "irisSetosaCovariance = np.dot(np.transpose(np.subtract(irisSetosaTrain[:, 0:4], irisSetosaMu)), np.subtract(irisSetosaTrain[:, 0:4], irisSetosaMu)) / irisSetosaN\n",
    "print(\"Covariance:\\n\", irisSetosaCovariance)\n",
    "print(\"Covariance shape:\", irisSetosaCovariance.shape)"
   ]
  },
  {
   "cell_type": "code",
   "execution_count": 107,
   "id": "faecb55a",
   "metadata": {},
   "outputs": [
    {
     "name": "stdout",
     "output_type": "stream",
     "text": [
      "iris Versicolor\n",
      "N: 40\n",
      "Mu: [6.01 2.7800000000000007 4.3175 1.35]\n",
      "Covariance:\n",
      " [[0.26689999999999997 0.08444999999999997 0.16782500000000003\n",
      "  0.05099999999999999]\n",
      " [0.08444999999999997 0.1081 0.07885 0.04425]\n",
      " [0.16782500000000003 0.07885 0.19844375000000003 0.071875]\n",
      " [0.05099999999999999 0.04425 0.071875 0.04199999999999999]]\n"
     ]
    }
   ],
   "source": [
    "print(\"iris Versicolor\")\n",
    "\n",
    "# calculate N\n",
    "irisVersicolorN = len(irisSetosaTrain)\n",
    "print(\"N:\", irisVersicolorN)\n",
    "\n",
    "#calculate mu (average)\n",
    "irisVersicolorMu = np.mean(irisVersicolorTrain[:, 0:4], axis=0)\n",
    "print(\"Mu:\", irisVersicolorMu)\n",
    "\n",
    "# calculate covariance\n",
    "irisVersicolorCovariance = np.dot(np.transpose(np.subtract(irisVersicolorTrain[:, 0:4], irisVersicolorMu)), np.subtract(irisVersicolorTrain[:, 0:4], irisVersicolorMu)) / irisVersicolorN\n",
    "print(\"Covariance:\\n\", irisVersicolorCovariance)"
   ]
  },
  {
   "cell_type": "code",
   "execution_count": 108,
   "id": "c9793160",
   "metadata": {},
   "outputs": [
    {
     "name": "stdout",
     "output_type": "stream",
     "text": [
      "iris Virginica\n",
      "N: 40\n",
      "Mu: [6.6225 2.9599999999999995 5.6075 1.9899999999999995]\n",
      "Covariance:\n",
      " [[0.4562437500000002 0.10764999999999998 0.3488312500000001\n",
      "  0.049975000000000006]\n",
      " [0.10764999999999998 0.11039999999999997 0.07904999999999998\n",
      "  0.04510000000000001]\n",
      " [0.3488312500000001 0.07904999999999998 0.3366937499999999 0.057825]\n",
      " [0.049975000000000006 0.04510000000000001 0.057825 0.07239999999999999]]\n"
     ]
    }
   ],
   "source": [
    "print(\"iris Virginica\")\n",
    "\n",
    "# calculate N\n",
    "irisVirginicaN = len(irisVirginicaTrain)\n",
    "print(\"N:\", irisVirginicaN)\n",
    "\n",
    "#calculate mu (average)\n",
    "irisVirginicaMu = np.mean(irisVirginicaTrain[:, 0:4], axis=0)\n",
    "print(\"Mu:\", irisVirginicaMu)\n",
    "\n",
    "# calculate covariance\n",
    "irisVirginicaCovariance = np.dot(np.transpose(np.subtract(irisVirginicaTrain[:, 0:4], irisVirginicaMu)), np.subtract(irisVirginicaTrain[:, 0:4], irisVirginicaMu)) / irisVirginicaN\n",
    "print(\"Covariance:\\n\", irisVirginicaCovariance)"
   ]
  },
  {
   "cell_type": "markdown",
   "id": "9353e21d",
   "metadata": {},
   "source": [
    "### Prediction"
   ]
  },
  {
   "cell_type": "code",
   "execution_count": 109,
   "id": "0c5da27d",
   "metadata": {},
   "outputs": [
    {
     "name": "stdout",
     "output_type": "stream",
     "text": [
      "17.928310515542087\n",
      "6.027533545975077e-24\n",
      "5.761874894530037e-37\n"
     ]
    }
   ],
   "source": [
    "def irisSetosaProb(testX):\n",
    "  numOfFeatures = 4\n",
    "  irisSetosaFrac = 1/(((2*np.pi)**(numOfFeatures/2))*(np.linalg.det(irisSetosaCovariance.astype(np.float64))**(1/2)))\n",
    "  xMinusMu = testX-irisSetosaMu\n",
    "  inverseCovariance = np.linalg.inv(irisSetosaCovariance.astype(np.float64))\n",
    "  irisSetosaProb = np.e**(-1/2* np.dot(np.dot(np.transpose(xMinusMu), inverseCovariance),(xMinusMu)))\n",
    "  return irisSetosaFrac * irisSetosaProb\n",
    "print(irisSetosaProb(np.array([5.1,3.5,1.4,0.2])))\n",
    "\n",
    "def irisVersicolorProb(testX):\n",
    "  numOfFeatures = 4\n",
    "  irisVersicolorFrac = 1/(((2*np.pi)**(numOfFeatures/2))*(np.linalg.det(irisVersicolorCovariance.astype(np.float64))**(1/2)))\n",
    "  xMinusMu = testX-irisVersicolorMu\n",
    "  inverseCovariance = np.linalg.inv(irisVersicolorCovariance.astype(np.float64))\n",
    "  irisVersicolorProb = np.e**(-1/2* np.dot(np.dot(np.transpose(xMinusMu), inverseCovariance),(xMinusMu)))\n",
    "  return irisVersicolorFrac * irisVersicolorProb\n",
    "print(irisVersicolorProb(np.array([5.1,3.5,1.4,0.2])))\n",
    "\n",
    "def irisVirginicaProb(testX):\n",
    "  numOfFeatures = 4\n",
    "  irisVirginicaFrac = 1/(((2*np.pi)**(numOfFeatures/2))*(np.linalg.det(irisVirginicaCovariance.astype(np.float64))**(1/2)))\n",
    "  xMinusMu = testX-irisVirginicaMu\n",
    "  inverseCovariance = np.linalg.inv(irisVirginicaCovariance.astype(np.float64))\n",
    "  irisVirginicaProb = np.e**(-1/2* np.dot(np.dot(np.transpose(xMinusMu), inverseCovariance),(xMinusMu)))\n",
    "  return irisVirginicaFrac * irisVirginicaProb\n",
    "print(irisVirginicaProb(np.array([5.1,3.5,1.4,0.2])))\n"
   ]
  },
  {
   "cell_type": "code",
   "execution_count": 110,
   "id": "68b2cdbc",
   "metadata": {},
   "outputs": [],
   "source": [
    "def predictionQDA(curData):\n",
    "  irisSetosaP = irisSetosaProb(curData[0:4])\n",
    "  irisVersicolorP = irisVersicolorProb(curData[0:4])\n",
    "  irisVirginicaP = irisVirginicaProb(curData[0:4])\n",
    "  return np.argmax([irisSetosaP, irisVersicolorP, irisVirginicaP])"
   ]
  },
  {
   "cell_type": "code",
   "execution_count": 111,
   "id": "11e95fb0",
   "metadata": {},
   "outputs": [
    {
     "name": "stdout",
     "output_type": "stream",
     "text": [
      "correct: 30\n",
      "incorrect: 0\n",
      "accuracy on test data: 1.0\n"
     ]
    }
   ],
   "source": [
    "# Test QDA on test data:\n",
    "allTestData = np.append(np.append(irisSetosaTest, irisVersicolorTest, axis=0),irisVirginicaTest, axis=0)\n",
    "# print(allTest)\n",
    "\n",
    "testCorrectQDA = 0\n",
    "testIncorrectQDA = 0\n",
    "\n",
    "for curRow in allTestData:\n",
    "  predictionIndex = predictionQDA(curRow)\n",
    "  if predictionIndex == 0 and curRow[4] == \"Iris-setosa\":\n",
    "    testCorrectQDA+=1\n",
    "  elif predictionIndex == 1 and curRow[4] == \"Iris-versicolor\":\n",
    "    testCorrectQDA+=1\n",
    "  elif predictionIndex == 2 and curRow[4] == \"Iris-virginica\":\n",
    "    testCorrectQDA+=1\n",
    "  else:\n",
    "    testIncorrectQDA+=1\n",
    "\n",
    "print(\"correct:\", testCorrectQDA)\n",
    "print(\"incorrect:\", testIncorrectQDA)\n",
    "print(\"accuracy on test data:\", testCorrectQDA / (testCorrectQDA +testIncorrectQDA))"
   ]
  },
  {
   "cell_type": "code",
   "execution_count": 112,
   "id": "321f0165",
   "metadata": {},
   "outputs": [
    {
     "name": "stdout",
     "output_type": "stream",
     "text": [
      "correct: 118\n",
      "incorrect: 2\n",
      "accuracy on train data: 0.98\n"
     ]
    }
   ],
   "source": [
    "# Test QDA on train data:\n",
    "allTrainData = np.append(np.append(irisSetosaTrain, irisVersicolorTrain, axis=0),irisVirginicaTrain, axis=0)\n",
    "# print(allTest)\n",
    "\n",
    "trainCorrectQDA = 0\n",
    "trainIncorrectQDA = 0\n",
    "\n",
    "for curRow in allTrainData:\n",
    "  predictionIndex = predictionQDA(curRow)\n",
    "  if predictionIndex == 0 and curRow[4] == \"Iris-setosa\":\n",
    "    trainCorrectQDA+=1\n",
    "  elif predictionIndex == 1 and curRow[4] == \"Iris-versicolor\":\n",
    "    trainCorrectQDA+=1\n",
    "  elif predictionIndex == 2 and curRow[4] == \"Iris-virginica\":\n",
    "    trainCorrectQDA+=1\n",
    "  else:\n",
    "    trainIncorrectQDA+=1\n",
    "\n",
    "print(\"correct:\", trainCorrectQDA)\n",
    "print(\"incorrect:\", trainIncorrectQDA)\n",
    "print(\"accuracy on train data:\", round((trainCorrectQDA / (trainCorrectQDA +trainIncorrectQDA)), 2))"
   ]
  },
  {
   "cell_type": "markdown",
   "id": "0b804dc0",
   "metadata": {},
   "source": [
    "## Part 3: Build LDA Classifier"
   ]
  },
  {
   "cell_type": "code",
   "execution_count": 113,
   "id": "17f98609",
   "metadata": {},
   "outputs": [
    {
     "name": "stdout",
     "output_type": "stream",
     "text": [
      "[[0.2836625000000001 0.09619999999999997 0.17643750000000002\n",
      "  0.03808541666666666]\n",
      " [0.09619999999999997 0.11596666666666665 0.05329999999999999\n",
      "  0.03451666666666667]\n",
      " [0.17643750000000002 0.05329999999999999 0.18799374999999996\n",
      "  0.04472291666666667]\n",
      " [0.03808541666666666 0.03451666666666667 0.04472291666666667\n",
      "  0.04136458333333332]]\n"
     ]
    }
   ],
   "source": [
    "avgCovariance = (irisSetosaCovariance + irisVersicolorCovariance + irisVirginicaCovariance)/3\n",
    "print(avgCovariance)"
   ]
  },
  {
   "cell_type": "code",
   "execution_count": 114,
   "id": "83f6b99e",
   "metadata": {},
   "outputs": [
    {
     "name": "stdout",
     "output_type": "stream",
     "text": [
      "3.4908948282495755\n",
      "1.551973687975383e-21\n",
      "7.334054045056142e-41\n"
     ]
    }
   ],
   "source": [
    "def irisSetosaProbLDA(testX):\n",
    "  numOfFeatures = 4\n",
    "  irisSetosaFrac = 1/(((2*np.pi)**(numOfFeatures/2))*(np.linalg.det(avgCovariance.astype(np.float64))**(1/2)))\n",
    "  xMinusMu = testX-irisSetosaMu\n",
    "  inverseCovariance = np.linalg.inv(avgCovariance.astype(np.float64))\n",
    "  irisSetosaProb = np.e**(-1/2* np.dot(np.dot(np.transpose(xMinusMu), inverseCovariance),(xMinusMu)))\n",
    "  return irisSetosaFrac * irisSetosaProb\n",
    "print(irisSetosaProbLDA(np.array([5.1,3.5,1.4,0.2])))\n",
    "\n",
    "def irisVersicolorProbLDA(testX):\n",
    "  numOfFeatures = 4\n",
    "  irisVersicolorFrac = 1/(((2*np.pi)**(numOfFeatures/2))*(np.linalg.det(avgCovariance.astype(np.float64))**(1/2)))\n",
    "  xMinusMu = testX-irisVersicolorMu\n",
    "  inverseCovariance = np.linalg.inv(avgCovariance.astype(np.float64))\n",
    "  irisVersicolorProb = np.e**(-1/2* np.dot(np.dot(np.transpose(xMinusMu), inverseCovariance),(xMinusMu)))\n",
    "  return irisVersicolorFrac * irisVersicolorProb\n",
    "print(irisVersicolorProbLDA(np.array([5.1,3.5,1.4,0.2])))\n",
    "\n",
    "def irisVirginicaProbLDA(testX):\n",
    "  numOfFeatures = 4\n",
    "  irisVirginicaFrac = 1/(((2*np.pi)**(numOfFeatures/2))*(np.linalg.det(avgCovariance.astype(np.float64))**(1/2)))\n",
    "  xMinusMu = testX-irisVirginicaMu\n",
    "  inverseCovariance = np.linalg.inv(avgCovariance.astype(np.float64))\n",
    "  irisVirginicaProb = np.e**(-1/2* np.dot(np.dot(np.transpose(xMinusMu), inverseCovariance),(xMinusMu)))\n",
    "  return irisVirginicaFrac * irisVirginicaProb\n",
    "print(irisVirginicaProbLDA(np.array([5.1,3.5,1.4,0.2])))\n"
   ]
  },
  {
   "cell_type": "code",
   "execution_count": 115,
   "id": "03bece12",
   "metadata": {},
   "outputs": [],
   "source": [
    "def predictionLDA(curData):\n",
    "  irisSetosaP = irisSetosaProbLDA(curData[0:4])\n",
    "  irisVersicolorP = irisVersicolorProbLDA(curData[0:4])\n",
    "  irisVirginicaP = irisVirginicaProbLDA(curData[0:4])\n",
    "  return np.argmax([irisSetosaP, irisVersicolorP, irisVirginicaP])"
   ]
  },
  {
   "cell_type": "code",
   "execution_count": 116,
   "id": "6575beb2",
   "metadata": {},
   "outputs": [
    {
     "name": "stdout",
     "output_type": "stream",
     "text": [
      "correct: 30\n",
      "incorrect: 0\n",
      "accuracy on test data: 1.0\n"
     ]
    }
   ],
   "source": [
    "# Test LDA on test data:\n",
    "testCorrectLDA = 0\n",
    "testIncorrecLDA = 0\n",
    "\n",
    "for curRow in allTestData:\n",
    "  predictionIndex = predictionLDA(curRow)\n",
    "  if predictionIndex == 0 and curRow[4] == \"Iris-setosa\":\n",
    "    testCorrectLDA+=1\n",
    "  elif predictionIndex == 1 and curRow[4] == \"Iris-versicolor\":\n",
    "    testCorrectLDA+=1\n",
    "  elif predictionIndex == 2 and curRow[4] == \"Iris-virginica\":\n",
    "    testCorrectLDA+=1\n",
    "  else:\n",
    "    testIncorrecLDA+=1\n",
    "\n",
    "print(\"correct:\", testCorrectLDA)\n",
    "print(\"incorrect:\", testIncorrecLDA)\n",
    "print(\"accuracy on test data:\", testCorrectLDA / (testCorrectLDA +testIncorrecLDA))"
   ]
  },
  {
   "cell_type": "code",
   "execution_count": 117,
   "id": "9846b29f",
   "metadata": {},
   "outputs": [
    {
     "name": "stdout",
     "output_type": "stream",
     "text": [
      "correct: 117\n",
      "incorrect: 3\n",
      "accuracy on train data: 0.975\n"
     ]
    }
   ],
   "source": [
    "# Test LDA on train data:\n",
    "trainCorrectLDA = 0\n",
    "trainIncorrectLDA = 0\n",
    "\n",
    "for curRow in allTrainData:\n",
    "  predictionIndex = predictionLDA(curRow)\n",
    "  if predictionIndex == 0 and curRow[4] == \"Iris-setosa\":\n",
    "    trainCorrectLDA+=1\n",
    "  elif predictionIndex == 1 and curRow[4] == \"Iris-versicolor\":\n",
    "    trainCorrectLDA+=1\n",
    "  elif predictionIndex == 2 and curRow[4] == \"Iris-virginica\":\n",
    "    trainCorrectLDA+=1\n",
    "  else:\n",
    "    trainIncorrectLDA+=1\n",
    "\n",
    "print(\"correct:\", trainCorrectLDA)\n",
    "print(\"incorrect:\", trainIncorrectLDA)\n",
    "print(\"accuracy on train data:\", round((trainCorrectLDA / (trainCorrectLDA +trainIncorrectLDA)), 3))"
   ]
  },
  {
   "cell_type": "markdown",
   "id": "8456c02d",
   "metadata": {},
   "source": [
    "## Part 4: Linearly Separable Class\n",
    "**Conclusion**: Yes, Iris Setosa is linearly separable from the other classes because there is a 100% accuracy when doing binary classification to determine if a given sample is iris setosa\n",
    "### Test Iris-setosa"
   ]
  },
  {
   "cell_type": "code",
   "execution_count": 118,
   "id": "be63901d",
   "metadata": {},
   "outputs": [],
   "source": [
    "def isIrisSetosa(curData):\n",
    "  return predictionLDA(curData) == 0"
   ]
  },
  {
   "cell_type": "code",
   "execution_count": 120,
   "id": "c0a2bc3e",
   "metadata": {},
   "outputs": [
    {
     "name": "stdout",
     "output_type": "stream",
     "text": [
      "correct: 150\n",
      "incorrect: 0\n",
      "accuracy for isIrisSetosa: 1.0\n"
     ]
    }
   ],
   "source": [
    "# Test isIrisSetosa on all data:\n",
    "testCorrectIrisSetosa= 0\n",
    "testIncorrectIrisSetosa = 0\n",
    "\n",
    "for curRow in allData:\n",
    "  if(isIrisSetosa(curRow) == (curRow[4] == \"Iris-setosa\")):\n",
    "    testCorrectIrisSetosa += 1\n",
    "  else:\n",
    "    testIncorrectIrisSetosa += 1\n",
    "\n",
    "print(\"correct:\", testCorrectIrisSetosa)\n",
    "print(\"incorrect:\", testIncorrectIrisSetosa)\n",
    "print(\"accuracy for isIrisSetosa:\", testCorrectIrisSetosa / (testCorrectIrisSetosa +testIncorrectIrisSetosa))"
   ]
  },
  {
   "cell_type": "markdown",
   "id": "d0541555",
   "metadata": {},
   "source": [
    "### Test Iris Versicolor"
   ]
  },
  {
   "cell_type": "code",
   "execution_count": 121,
   "id": "85b3e5e2",
   "metadata": {},
   "outputs": [],
   "source": [
    "def isIrisVersicolor(curData):\n",
    "  return predictionLDA(curData) == 1"
   ]
  },
  {
   "cell_type": "code",
   "execution_count": 122,
   "id": "677c8055",
   "metadata": {},
   "outputs": [
    {
     "name": "stdout",
     "output_type": "stream",
     "text": [
      "correct: 147\n",
      "incorrect: 3\n",
      "accuracy on isIrisVersicolor: 0.98\n"
     ]
    }
   ],
   "source": [
    "# Test isIrisSetosa on all data:\n",
    "testCorrectIrisVersicolor= 0\n",
    "testIncorrectIrisVersicolor = 0\n",
    "\n",
    "for curRow in allData:\n",
    "  if(isIrisVersicolor(curRow) == (curRow[4] == \"Iris-versicolor\")):\n",
    "    testCorrectIrisVersicolor += 1\n",
    "  else:\n",
    "    testIncorrectIrisVersicolor += 1\n",
    "\n",
    "print(\"correct:\", testCorrectIrisVersicolor)\n",
    "print(\"incorrect:\", testIncorrectIrisVersicolor)\n",
    "print(\"accuracy on isIrisVersicolor:\", testCorrectIrisVersicolor / (testCorrectIrisVersicolor +testIncorrectIrisVersicolor))"
   ]
  },
  {
   "cell_type": "markdown",
   "id": "12418188",
   "metadata": {},
   "source": [
    "### Test Iris Virginica"
   ]
  },
  {
   "cell_type": "code",
   "execution_count": 123,
   "id": "01d207db",
   "metadata": {},
   "outputs": [],
   "source": [
    "def isIrisVirginica(curData):\n",
    "  return predictionLDA(curData) == 2"
   ]
  },
  {
   "cell_type": "code",
   "execution_count": 124,
   "id": "e598678c",
   "metadata": {},
   "outputs": [
    {
     "name": "stdout",
     "output_type": "stream",
     "text": [
      "correct: 147\n",
      "incorrect: 3\n",
      "accuracy on isIrisVersicolor: 0.98\n"
     ]
    }
   ],
   "source": [
    "# Test isIrisVirginica on all data:\n",
    "testCorrectIrisVirginica= 0\n",
    "testIncorrectIrisVirginica = 0\n",
    "\n",
    "for curRow in allData:\n",
    "  if(isIrisVirginica(curRow) == (curRow[4] == \"Iris-virginica\")):\n",
    "    testCorrectIrisVirginica += 1\n",
    "  else:\n",
    "    testIncorrectIrisVirginica += 1\n",
    "\n",
    "print(\"correct:\", testCorrectIrisVirginica)\n",
    "print(\"incorrect:\", testIncorrectIrisVirginica)\n",
    "print(\"accuracy on isIrisVersicolor:\", testCorrectIrisVirginica / (testCorrectIrisVirginica +testIncorrectIrisVirginica))"
   ]
  },
  {
   "cell_type": "markdown",
   "id": "ea399673",
   "metadata": {},
   "source": [
    "## Part 5: Assume Features are Independent\n",
    "**Conclusion**: While the time for training are pretty similar, the time to train when the features are independent is normally slightly shorter than when the featues are dependent, telling us that using a diagonal matrix for covariance makes the calculations faster"
   ]
  },
  {
   "cell_type": "code",
   "execution_count": 92,
   "id": "ee95fb86",
   "metadata": {},
   "outputs": [],
   "source": [
    "import time"
   ]
  },
  {
   "cell_type": "code",
   "execution_count": 125,
   "id": "676bc4ed",
   "metadata": {},
   "outputs": [
    {
     "name": "stdout",
     "output_type": "stream",
     "text": [
      "[[0.12784374999999998 0 0 0]\n",
      " [0 0.12939999999999996 0 0]\n",
      " [0 0 0.02884375000000001 0]\n",
      " [0 0 0 0.00969375]]\n",
      "[[0.26689999999999997 0 0 0]\n",
      " [0 0.1081 0 0]\n",
      " [0 0 0.19844375000000003 0]\n",
      " [0 0 0 0.04199999999999999]]\n",
      "[[0.26689999999999997 0 0 0]\n",
      " [0 0.1081 0 0]\n",
      " [0 0 0.19844375000000003 0]\n",
      " [0 0 0 0.04199999999999999]]\n"
     ]
    }
   ],
   "source": [
    "# Turn Covariance into a diagonal matrix because features are independent\n",
    "irisSetosaCovarianceDiagonal = np.diag(np.diag(irisSetosaCovariance))\n",
    "print(irisSetosaCovarianceDiagonal)\n",
    "irisVersicolorCovarianceDiagonal = np.diag(np.diag(irisVersicolorCovariance))\n",
    "print(irisVersicolorCovarianceDiagonal)\n",
    "irisVirginicaCovarianceDiagonal = np.diag(np.diag(irisVirginicaCovariance))\n",
    "print(irisVersicolorCovarianceDiagonal)"
   ]
  },
  {
   "cell_type": "code",
   "execution_count": 126,
   "id": "26a2e69c",
   "metadata": {},
   "outputs": [
    {
     "name": "stdout",
     "output_type": "stream",
     "text": [
      "17.928310515542087\n",
      "6.027533545975077e-24\n",
      "5.761874894530037e-37\n"
     ]
    }
   ],
   "source": [
    "def irisSetosaProbIndependent(testX):\n",
    "  numOfFeatures = 4\n",
    "  irisSetosaFrac = 1/(((2*np.pi)**(numOfFeatures/2))*(np.linalg.det(irisSetosaCovarianceDiagonal.astype(np.float64))**(1/2)))\n",
    "  xMinusMu = testX-irisSetosaMu\n",
    "  irisSetosaCovarianceDiagonalInverse = np.linalg.inv(irisSetosaCovarianceDiagonal.astype(np.float64))\n",
    "  irisSetosaProb = np.e**(-1/2* np.dot(np.dot(np.transpose(xMinusMu), irisSetosaCovarianceDiagonalInverse),(xMinusMu)))\n",
    "  return irisSetosaFrac * irisSetosaProb\n",
    "print(irisSetosaProb(np.array([5.1,3.5,1.4,0.2])))\n",
    "\n",
    "def irisVersicolorProbIndependent(testX):\n",
    "  numOfFeatures = 4\n",
    "  irisVersicolorFrac = 1/(((2*np.pi)**(numOfFeatures/2))*(np.linalg.det(irisVersicolorCovarianceDiagonal.astype(np.float64))**(1/2)))\n",
    "  xMinusMu = testX-irisVersicolorMu\n",
    "  inverseCovariance = np.linalg.inv(irisVersicolorCovarianceDiagonal.astype(np.float64))\n",
    "  irisVersicolorProb = np.e**(-1/2* np.dot(np.dot(np.transpose(xMinusMu), inverseCovariance),(xMinusMu)))\n",
    "  return irisVersicolorFrac * irisVersicolorProb\n",
    "print(irisVersicolorProb(np.array([5.1,3.5,1.4,0.2])))\n",
    "\n",
    "def irisVirginicaProbIndependent(testX):\n",
    "  numOfFeatures = 4\n",
    "  irisVirginicaFrac = 1/(((2*np.pi)**(numOfFeatures/2))*(np.linalg.det(irisVirginicaCovarianceDiagonal.astype(np.float64))**(1/2)))\n",
    "  xMinusMu = testX-irisVirginicaMu\n",
    "  inverseCovariance = np.linalg.inv(irisVirginicaCovarianceDiagonal.astype(np.float64))\n",
    "  irisVirginicaProb = np.e**(-1/2* np.dot(np.dot(np.transpose(xMinusMu), inverseCovariance),(xMinusMu)))\n",
    "  return irisVirginicaFrac * irisVirginicaProb\n",
    "print(irisVirginicaProb(np.array([5.1,3.5,1.4,0.2])))"
   ]
  },
  {
   "cell_type": "code",
   "execution_count": 127,
   "id": "fd82685b",
   "metadata": {},
   "outputs": [],
   "source": [
    "def predictionQDAIndependent(curData):\n",
    "  irisSetosaP = irisSetosaProbIndependent(curData[0:4])\n",
    "  irisVersicolorP = irisVersicolorProbIndependent(curData[0:4])\n",
    "  irisVirginicaP = irisVirginicaProbIndependent(curData[0:4])\n",
    "  return np.argmax([irisSetosaP, irisVersicolorP, irisVirginicaP])"
   ]
  },
  {
   "cell_type": "code",
   "execution_count": 131,
   "id": "0fc60d5f",
   "metadata": {},
   "outputs": [
    {
     "name": "stdout",
     "output_type": "stream",
     "text": [
      "Time for independent QDA: 0.0065441131591796875\n",
      "correct: 115\n",
      "incorrect: 5\n",
      "accuracy on all data: 0.96\n"
     ]
    }
   ],
   "source": [
    "# Run and time normal QDA on all data\n",
    "independentStartTime = time.time()\n",
    "trainCorrectQDAInd = 0\n",
    "trainIncorrectQDAInd = 0\n",
    "\n",
    "for curRow in allTrainData:\n",
    "  predictionIndex = predictionQDAIndependent(curRow)\n",
    "  if predictionIndex == 0 and curRow[4] == \"Iris-setosa\":\n",
    "    trainCorrectQDAInd+=1\n",
    "  elif predictionIndex == 1 and curRow[4] == \"Iris-versicolor\":\n",
    "    trainCorrectQDAInd+=1\n",
    "  elif predictionIndex == 2 and curRow[4] == \"Iris-virginica\":\n",
    "    trainCorrectQDAInd+=1\n",
    "  else:\n",
    "    trainIncorrectQDAInd+=1\n",
    "  \n",
    "dependentTime = time.time() - independentStartTime\n",
    "print(\"Time for independent QDA:\", dependentTime)\n",
    "\n",
    "print(\"correct:\", trainCorrectQDAInd)\n",
    "print(\"incorrect:\", trainIncorrectQDAInd)\n",
    "print(\"accuracy on all data:\", round((trainCorrectQDAInd / (trainCorrectQDAInd +trainIncorrectQDAInd)), 2))"
   ]
  },
  {
   "cell_type": "code",
   "execution_count": 129,
   "id": "b0032754",
   "metadata": {},
   "outputs": [
    {
     "name": "stdout",
     "output_type": "stream",
     "text": [
      "Time for dependent QDA: 0.009326934814453125\n",
      "correct: 118\n",
      "incorrect: 2\n",
      "accuracy on all data: 0.98\n"
     ]
    }
   ],
   "source": [
    "# Run and time normal QDA on all data\n",
    "dependentStartTime = time.time()\n",
    "trainCorrectQDA = 0\n",
    "trainIncorrectQDA = 0\n",
    "\n",
    "for curRow in allTrainData:\n",
    "  predictionIndex = predictionQDA(curRow)\n",
    "  if predictionIndex == 0 and curRow[4] == \"Iris-setosa\":\n",
    "    trainCorrectQDA+=1\n",
    "  elif predictionIndex == 1 and curRow[4] == \"Iris-versicolor\":\n",
    "    trainCorrectQDA+=1\n",
    "  elif predictionIndex == 2 and curRow[4] == \"Iris-virginica\":\n",
    "    trainCorrectQDA+=1\n",
    "  else:\n",
    "    trainIncorrectQDA+=1\n",
    "  \n",
    "dependentTime = time.time() - dependentStartTime\n",
    "print(\"Time for dependent QDA:\", dependentTime)\n",
    "\n",
    "print(\"correct:\", trainCorrectQDA)\n",
    "print(\"incorrect:\", trainIncorrectQDA)\n",
    "print(\"accuracy on all data:\", round((trainCorrectQDA / (trainCorrectQDA +trainIncorrectQDA)), 2))"
   ]
  }
 ],
 "metadata": {
  "kernelspec": {
   "display_name": "coen140L",
   "language": "python",
   "name": "python3"
  },
  "language_info": {
   "codemirror_mode": {
    "name": "ipython",
    "version": 3
   },
   "file_extension": ".py",
   "mimetype": "text/x-python",
   "name": "python",
   "nbconvert_exporter": "python",
   "pygments_lexer": "ipython3",
   "version": "3.12.6"
  }
 },
 "nbformat": 4,
 "nbformat_minor": 5
}
