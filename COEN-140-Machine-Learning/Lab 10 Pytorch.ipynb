{
 "cells": [
  {
   "cell_type": "markdown",
   "metadata": {},
   "source": [
    "# Lab 10: Pytorch\n",
    "Modified by Tiffany Nguyen"
   ]
  },
  {
   "cell_type": "code",
   "execution_count": 154,
   "metadata": {
    "id": "aI_HNC44m9it"
   },
   "outputs": [],
   "source": [
    "import torch\n",
    "import torch.nn as nn\n",
    "import torch.optim as optim\n",
    "from torchvision import datasets, transforms\n",
    "from torch.utils.data import DataLoader, random_split\n",
    "import torch.nn.functional as F"
   ]
  },
  {
   "cell_type": "code",
   "execution_count": 155,
   "metadata": {},
   "outputs": [],
   "source": [
    "# Set random seed for reproducibility (your choice)\n",
    "gen = torch.manual_seed(18) "
   ]
  },
  {
   "cell_type": "code",
   "execution_count": 156,
   "metadata": {
    "id": "6KVu3sAFDFWq"
   },
   "outputs": [],
   "source": [
    "# Load MNIST dataset\n",
    "transform = transforms.Compose([transforms.ToTensor(), transforms.Normalize((0.5,), (0.5,))])\n",
    "mnist_dataset = datasets.MNIST(root='./data', train=True, download=True, transform=transform)\n",
    "test_dataset = datasets.MNIST(root='./data', train=False, download=True, transform=transform)\n",
    "\n",
    "# Splitting dataset into train and validation sets\n",
    "train_dataset, val_dataset = random_split(mnist_dataset, [55000, 5000])\n",
    "\n",
    "train_loader = DataLoader(train_dataset, batch_size=32, shuffle=True)\n",
    "val_loader = DataLoader(val_dataset, batch_size=32, shuffle=False)\n",
    "test_loader = DataLoader(test_dataset, batch_size=32, shuffle=False)"
   ]
  },
  {
   "cell_type": "code",
   "execution_count": 157,
   "metadata": {
    "id": "GArcUe9ZDELB"
   },
   "outputs": [],
   "source": [
    "class Classifier(nn.Module):\n",
    "    def __init__(self):\n",
    "        super(Classifier, self).__init__()\n",
    "        self.flatten = nn.Flatten()\n",
    "        self.fc1 = nn.Linear(28 * 28, 128)\n",
    "        self.prelu = nn.PReLU() # added\n",
    "        # self.relu = nn.ReLU() \n",
    "        self.fc2 = nn.Linear(128, 64) #added\n",
    "        self.fc3 = nn.Linear(64, 10)  \n",
    "\n",
    "    def forward(self, x):\n",
    "        x = self.flatten(x)\n",
    "        x = self.fc1(x)\n",
    "        x = self.prelu(x)\n",
    "        x = self.fc2(x)\n",
    "        x = self.prelu(x)\n",
    "        x = self.fc3(x)\n",
    "        return x"
   ]
  },
  {
   "cell_type": "code",
   "execution_count": 158,
   "metadata": {
    "colab": {
     "base_uri": "https://localhost:8080/"
    },
    "id": "LJkMY_5Um-7C",
    "outputId": "2570b34b-fe05-462c-e2f6-4bcb2dbb7717"
   },
   "outputs": [
    {
     "name": "stdout",
     "output_type": "stream",
     "text": [
      "Epoch [1/20], Training Loss: 0.3915, Validation Loss: 0.2178, Validation Accuracy: 93.46%\n",
      "Epoch [2/20], Training Loss: 0.1914, Validation Loss: 0.1360, Validation Accuracy: 95.88%\n",
      "Epoch [3/20], Training Loss: 0.1300, Validation Loss: 0.1140, Validation Accuracy: 96.52%\n",
      "Epoch [4/20], Training Loss: 0.1007, Validation Loss: 0.0968, Validation Accuracy: 96.88%\n",
      "Epoch [5/20], Training Loss: 0.0850, Validation Loss: 0.0903, Validation Accuracy: 96.88%\n",
      "Epoch [6/20], Training Loss: 0.0721, Validation Loss: 0.0803, Validation Accuracy: 97.52%\n",
      "Epoch [7/20], Training Loss: 0.0638, Validation Loss: 0.0835, Validation Accuracy: 97.30%\n",
      "Epoch [8/20], Training Loss: 0.0565, Validation Loss: 0.0897, Validation Accuracy: 97.52%\n",
      "Epoch [9/20], Training Loss: 0.0502, Validation Loss: 0.0914, Validation Accuracy: 97.14%\n",
      "Epoch [10/20], Training Loss: 0.0460, Validation Loss: 0.0927, Validation Accuracy: 97.50%\n",
      "Epoch [11/20], Training Loss: 0.0389, Validation Loss: 0.0791, Validation Accuracy: 97.66%\n",
      "Epoch [12/20], Training Loss: 0.0383, Validation Loss: 0.0766, Validation Accuracy: 98.02%\n",
      "Epoch [13/20], Training Loss: 0.0321, Validation Loss: 0.0874, Validation Accuracy: 97.52%\n",
      "Epoch [14/20], Training Loss: 0.0320, Validation Loss: 0.0816, Validation Accuracy: 97.58%\n",
      "Epoch [15/20], Training Loss: 0.0305, Validation Loss: 0.1109, Validation Accuracy: 97.20%\n",
      "Epoch [16/20], Training Loss: 0.0303, Validation Loss: 0.0776, Validation Accuracy: 98.16%\n",
      "Epoch [17/20], Training Loss: 0.0272, Validation Loss: 0.0998, Validation Accuracy: 97.60%\n",
      "Epoch [18/20], Training Loss: 0.0263, Validation Loss: 0.1059, Validation Accuracy: 97.54%\n",
      "Epoch [19/20], Training Loss: 0.0256, Validation Loss: 0.1117, Validation Accuracy: 97.50%\n",
      "Epoch [20/20], Training Loss: 0.0229, Validation Loss: 0.0837, Validation Accuracy: 97.98%\n"
     ]
    }
   ],
   "source": [
    "# Initialize the model, loss function, and optimizer\n",
    "model = Classifier()\n",
    "criterion = nn.CrossEntropyLoss()\n",
    "optimizer = optim.Adam(model.parameters(), lr=0.0005) # was 0.001\n",
    "\n",
    "# Training loop\n",
    "num_epochs = 20 # was 5\n",
    "for epoch in range(num_epochs):\n",
    "    model.train()\n",
    "    running_loss = 0.0\n",
    "    for batch_idx, (data, target) in enumerate(train_loader):\n",
    "        optimizer.zero_grad()\n",
    "        output = model(data)\n",
    "        loss = criterion(output, target)\n",
    "        loss.backward()\n",
    "        optimizer.step()\n",
    "        running_loss += loss.item()\n",
    "\n",
    "    # Calculate validation loss\n",
    "    model.eval()\n",
    "    val_loss = 0.0\n",
    "    correct = 0\n",
    "    total = 0\n",
    "    with torch.no_grad():\n",
    "        for data, target in val_loader:\n",
    "            output = model(data)\n",
    "            val_loss += criterion(output, target).item()\n",
    "            _, predicted = torch.max(output.data, 1)\n",
    "            total += target.size(0)\n",
    "            correct += (predicted == target).sum().item()\n",
    "\n",
    "    val_loss /= len(val_loader)\n",
    "    val_accuracy = 100 * correct / total\n",
    "    print(f\"Epoch [{epoch+1}/{num_epochs}], Training Loss: {running_loss / len(train_loader):.4f}, Validation Loss: {val_loss:.4f}, Validation Accuracy: {val_accuracy:.2f}%\")\n"
   ]
  },
  {
   "cell_type": "code",
   "execution_count": 160,
   "metadata": {
    "colab": {
     "base_uri": "https://localhost:8080/"
    },
    "id": "DJeQHRdKBhAs",
    "outputId": "c306572b-a0aa-4b94-cb93-30351841a5a4"
   },
   "outputs": [
    {
     "name": "stdout",
     "output_type": "stream",
     "text": [
      "Test Accuracy: 98.12%\n"
     ]
    }
   ],
   "source": [
    "model.eval()\n",
    "\n",
    "# Evaluate the model on the test set\n",
    "correct = 0\n",
    "total = 0\n",
    "with torch.no_grad():\n",
    "    for data, target in test_loader:\n",
    "        output = model(data)\n",
    "        _, predicted = torch.max(output.data, 1)\n",
    "        total += target.size(0)\n",
    "        correct += (predicted == target).sum().item()\n",
    "\n",
    "test_accuracy = 100 * correct / total\n",
    "print(f\"Test Accuracy: {test_accuracy:.2f}%\")"
   ]
  }
 ],
 "metadata": {
  "colab": {
   "provenance": []
  },
  "kernelspec": {
   "display_name": "coen140L",
   "language": "python",
   "name": "python3"
  },
  "language_info": {
   "codemirror_mode": {
    "name": "ipython",
    "version": 3
   },
   "file_extension": ".py",
   "mimetype": "text/x-python",
   "name": "python",
   "nbconvert_exporter": "python",
   "pygments_lexer": "ipython3",
   "version": "3.12.6"
  }
 },
 "nbformat": 4,
 "nbformat_minor": 0
}
