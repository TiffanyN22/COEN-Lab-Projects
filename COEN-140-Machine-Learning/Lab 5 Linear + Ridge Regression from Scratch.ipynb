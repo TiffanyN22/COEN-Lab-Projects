{
 "cells": [
  {
   "cell_type": "markdown",
   "metadata": {},
   "source": [
    "# Lab 5: Linear Regression and Ridge Regression from Scratch\n",
    "## by Tiffany Nguyen\n",
    "The purpose of this lab is to train a linear regression model and a ridge regression model using the weight equations derived in class and evaluate the predictions using Root Mean Squared Error (RMSE).\n",
    "### Part 1: Preprocessing"
   ]
  },
  {
   "cell_type": "code",
   "execution_count": 99,
   "metadata": {},
   "outputs": [],
   "source": [
    "import numpy as np"
   ]
  },
  {
   "cell_type": "code",
   "execution_count": 100,
   "metadata": {},
   "outputs": [
    {
     "name": "stdout",
     "output_type": "stream",
     "text": [
      "trainDataX shape: (1595, 96)\n",
      "trainDataY shape: (1595,)\n",
      "trainDataX: \n",
      " [[-0.45 -1.85 -1.06 ...  1.26 -0.39  1.  ]\n",
      " [-0.45 -0.27 -0.22 ... -0.62 -0.39  1.  ]\n",
      " [-0.14  1.87  0.55 ...  0.52 -0.39  1.  ]\n",
      " ...\n",
      " [ 0.81 -0.57 -0.48 ...  0.08  3.4   1.  ]\n",
      " [ 0.18  0.28  1.   ...  0.73  0.52  1.  ]\n",
      " [ 1.12  1.93  0.49 ... -0.49  3.77  1.  ]]\n",
      "trainDataY: \n",
      " [0.67 0.43 0.12 ... 0.23 0.19 0.48]\n"
     ]
    }
   ],
   "source": [
    "# Read all training data\n",
    "trainDataX = np.empty((0, 95))\n",
    "trainDataY = np.empty((0))\n",
    "\n",
    "#read train data\n",
    "with open(\"crime-train.txt\", \"r\") as filestream:\n",
    "  next(filestream) #skip header line\n",
    "  for line in filestream:\n",
    "    currentline = line.strip().split(\"\\t\")\n",
    "    trainDataX = np.append(trainDataX, [np.array(currentline[1:], dtype=float)], axis=0)\n",
    "    trainDataY = np.append(trainDataY, float(currentline[0]))\n",
    "\n",
    "# add dummy feature to train data (column of ones for bias) \n",
    "dummyCol = np.ones((trainDataX.shape[0], 1))\n",
    "trainDataX = np.concatenate((trainDataX, dummyCol), axis=1)\n",
    "\n",
    "# print output\n",
    "print(\"trainDataX shape:\", trainDataX.shape)\n",
    "print(\"trainDataY shape:\", trainDataY.shape)\n",
    "print(\"trainDataX: \\n\", trainDataX)\n",
    "print(\"trainDataY: \\n\", trainDataY)"
   ]
  },
  {
   "cell_type": "code",
   "execution_count": 101,
   "metadata": {},
   "outputs": [
    {
     "name": "stdout",
     "output_type": "stream",
     "text": [
      "testDataX shape: (399, 96)\n",
      "testDataY shape: (399,)\n",
      "testDataX: \n",
      " [[-0.14  0.35 -0.41 ...  0.65 -0.39  1.  ]\n",
      " [ 0.02 -0.45 -0.22 ... -0.66 -0.39  1.  ]\n",
      " [-0.45  0.28 -0.16 ... -0.66 -0.39  1.  ]\n",
      " ...\n",
      " [-0.38  1.99  1.07 ... -0.57 -0.39  1.  ]\n",
      " [-0.38  0.04 -0.22 ... -0.27 -0.39  1.  ]\n",
      " [ 0.02 -0.57 -0.48 ... -0.14 -0.39  1.  ]]\n",
      "testDataY: \n",
      " [0.08 0.22 0.06 0.16 0.15 0.28 0.63 0.16 0.25 1.   0.04 0.05 0.86 0.08\n",
      " 0.09 0.17 0.12 0.12 1.   0.16 0.4  0.12 0.07 0.4  0.06 0.21 0.04 0.45\n",
      " 0.02 0.28 0.38 0.22 0.07 0.06 0.16 0.21 1.   0.19 0.26 0.1  0.23 0.09\n",
      " 0.55 1.   0.09 0.41 1.   0.05 0.02 0.09 0.11 0.36 0.03 0.63 0.04 0.02\n",
      " 0.08 0.27 0.52 0.27 0.31 0.06 0.1  0.22 0.6  0.49 0.4  0.02 0.21 0.2\n",
      " 1.   0.5  0.15 0.31 0.22 0.16 0.16 0.32 0.21 0.09 0.09 0.02 0.05 0.15\n",
      " 0.11 0.1  0.06 0.11 0.01 0.1  0.18 0.85 0.05 0.12 0.54 0.06 0.04 0.18\n",
      " 0.44 0.03 0.14 0.03 0.29 0.14 0.71 0.06 0.35 0.07 0.2  0.3  0.05 0.05\n",
      " 0.26 0.62 0.11 0.03 0.17 0.25 0.34 0.39 0.13 0.19 0.11 0.06 0.08 0.01\n",
      " 0.04 0.25 0.08 0.31 1.   0.73 0.18 0.37 1.   0.37 0.04 0.05 0.04 0.2\n",
      " 0.33 0.06 0.03 0.29 1.   0.12 0.51 0.08 0.14 0.28 0.51 0.12 0.19 0.82\n",
      " 0.48 0.22 0.06 0.09 0.29 0.53 0.1  0.06 0.24 0.14 0.03 0.13 0.06 0.02\n",
      " 0.19 0.57 0.04 0.09 0.12 0.19 0.09 0.02 0.12 0.02 0.03 0.12 0.13 0.03\n",
      " 0.24 0.06 0.11 0.24 0.25 0.01 0.17 0.3  0.08 0.28 0.17 0.09 0.17 0.05\n",
      " 0.36 0.01 0.28 0.15 0.52 0.57 0.26 0.15 0.05 0.37 0.41 0.04 0.52 0.2\n",
      " 0.07 0.14 0.37 0.15 0.   0.08 0.39 0.03 0.04 0.22 0.17 0.12 1.   0.03\n",
      " 0.06 0.08 0.31 1.   0.09 0.07 0.59 0.06 0.18 0.17 0.48 0.16 0.61 0.33\n",
      " 0.23 0.12 1.   0.11 0.16 0.03 0.22 0.36 0.6  0.06 0.15 0.06 0.05 0.03\n",
      " 0.15 0.14 0.22 0.53 0.05 0.48 0.29 0.12 0.2  0.09 0.03 0.42 0.07 0.06\n",
      " 0.04 0.43 0.65 0.34 0.26 0.17 0.13 0.28 0.45 0.18 0.41 0.47 0.76 0.03\n",
      " 0.19 0.11 1.   0.26 1.   0.02 0.04 0.03 0.09 1.   0.15 0.33 0.09 0.03\n",
      " 0.36 0.32 0.07 0.38 0.06 0.03 0.02 0.21 0.12 0.04 0.14 0.03 0.51 0.41\n",
      " 0.25 0.09 0.05 0.11 0.54 0.09 0.07 0.08 0.03 0.16 0.15 0.23 0.19 0.04\n",
      " 0.21 0.04 0.69 0.02 0.04 0.19 0.04 0.45 0.11 0.22 0.48 0.12 0.55 0.22\n",
      " 0.86 0.12 0.1  0.11 0.29 0.12 0.11 0.19 0.09 0.   0.62 0.07 0.05 0.65\n",
      " 0.3  0.33 0.24 0.43 0.17 0.34 0.19 0.53 0.81 0.04 0.07 0.21 0.05 0.03\n",
      " 0.05 0.07 0.16 0.22 0.02 0.01 0.05 0.12 0.15 0.93 0.36 0.3  0.52 0.41\n",
      " 0.72 0.3  0.01 0.12 0.01 0.27 1.   0.04 0.84 0.49 0.01 0.45 0.09 0.06\n",
      " 0.39 0.07 0.02 0.05 0.1  0.03 0.06]\n"
     ]
    }
   ],
   "source": [
    "# Read all testing data\n",
    "testDataX = np.empty((0, 95))\n",
    "testDataY = np.empty((0))\n",
    "\n",
    "#read train data\n",
    "with open(\"crime-test.txt\", \"r\") as filestream:\n",
    "  next(filestream) #skip header line\n",
    "  for line in filestream:\n",
    "    currentline = line.strip().split(\"\\t\")\n",
    "    testDataX = np.append(testDataX, [np.array(currentline[1:], dtype=float)], axis=0)\n",
    "    testDataY = np.append(testDataY, float(currentline[0]))\n",
    "\n",
    "# add dummy feature to train data (column of ones for bias) \n",
    "dummyCol = np.ones((testDataX.shape[0], 1))\n",
    "testDataX = np.concatenate((testDataX, dummyCol), axis=1)\n",
    "\n",
    "# print output\n",
    "print(\"testDataX shape:\", testDataX.shape)\n",
    "print(\"testDataY shape:\", testDataY.shape)\n",
    "print(\"testDataX: \\n\", testDataX)\n",
    "print(\"testDataY: \\n\", testDataY)"
   ]
  },
  {
   "cell_type": "markdown",
   "metadata": {},
   "source": [
    "### Part 2: Training\n",
    "Weights for Linear Regression:\n",
    "$$(X^TX)^{-1}X^Ty$$\n",
    "Weights for Ridge Regression:\n",
    "$$(X^TX+\\lambda I)^{-1}X^Ty$$"
   ]
  },
  {
   "cell_type": "code",
   "execution_count": 102,
   "metadata": {},
   "outputs": [
    {
     "name": "stdout",
     "output_type": "stream",
     "text": [
      "Linear Regression Weights:\n",
      " [-1.54906138e-02  3.35459838e-03  1.27547102e-02 -2.99835603e-02\n",
      " -2.49633935e-02  2.42430772e-02 -1.26473288e-02  2.03432879e-02\n",
      " -3.20098178e-02 -3.13299628e-02  6.01490622e-03 -3.97817625e-02\n",
      "  4.88968626e-03 -2.59111673e-03 -1.25557009e-02  5.74520977e-02\n",
      " -5.57639378e-02  2.37527507e-03 -3.68181254e-04 -4.24706174e-03\n",
      "  4.31644481e-03  1.27018447e-02  2.54547492e-02 -3.32700396e-02\n",
      " -1.60002475e-02  3.54599959e-03  1.54036062e-02  4.24360129e-03\n",
      "  4.25444378e-02 -1.03008495e-02  3.77526976e-03  1.37145404e-02\n",
      "  1.56911065e-02  6.22095883e-02  3.59684662e-02  1.04463505e-02\n",
      " -6.95109507e-02  1.25702313e-02  4.52392413e-02 -1.27783374e-01\n",
      " -3.11803197e-03 -1.58893093e-04  8.76703186e-03 -2.98193646e-02\n",
      " -2.15350434e-02  5.75307329e-02 -1.39352290e-02  2.90734700e-03\n",
      " -1.57817870e-05 -6.64885528e-03  7.87972918e-03 -2.11190533e-02\n",
      " -1.09784568e-02  4.52348038e-02 -9.55488187e-03 -1.74048531e-02\n",
      " -4.57405270e-02 -2.40896336e-02 -2.61689470e-04  1.03266126e-01\n",
      " -4.10257352e-02 -5.44396745e-02 -1.05498574e-01  3.73099332e-02\n",
      "  9.80131688e-03  2.66274418e-03  3.92826388e-02 -8.32579850e-03\n",
      "  7.17847415e-02  8.01869101e-03 -1.41707629e-02  5.12993017e-03\n",
      " -3.27074840e-06  2.67075075e-03 -4.52153776e-02  1.81363083e-02\n",
      "  1.79759889e-02 -4.40566265e-02 -3.67145899e-02 -1.91875981e-02\n",
      "  1.02732900e-01  4.54160769e-03 -1.18942792e-02 -1.42426151e-02\n",
      "  7.22987879e-03  2.63724504e-02  2.87339016e-02 -6.37340126e-03\n",
      "  2.58570462e-04 -3.92322743e-03  1.27872414e-02  2.18749791e-03\n",
      " -3.47465019e-03 -8.55761434e-03  4.27606715e-03  2.36115262e-01]\n"
     ]
    }
   ],
   "source": [
    "# Get weights for linear regression\n",
    "xtx = np.dot(np.transpose(trainDataX), trainDataX)\n",
    "xtxInv = np.linalg.inv(xtx)\n",
    "xtxInvXt = np.dot(xtxInv, np.transpose(trainDataX))\n",
    "linearRegressionWeights = np.dot(xtxInvXt, trainDataY)\n",
    "print(\"Linear Regression Weights:\\n\", linearRegressionWeights)"
   ]
  },
  {
   "cell_type": "code",
   "execution_count": 103,
   "metadata": {},
   "outputs": [
    {
     "name": "stdout",
     "output_type": "stream",
     "text": [
      "Ridge Regression Weights:\n",
      " [-6.24990628e-03  9.99933877e-03 -1.62413794e-03 -1.67026882e-02\n",
      " -5.16998456e-03  1.17345689e-02 -5.04845701e-03  1.75230995e-02\n",
      "  4.69535245e-03 -6.57402533e-03  1.12734829e-03 -2.84372641e-02\n",
      "  6.33694821e-03  1.28021923e-03 -9.22355798e-03  1.19106670e-03\n",
      " -9.61654135e-03  6.00453170e-03 -6.15061465e-04 -2.88976415e-03\n",
      "  4.18653476e-03  1.04107643e-02  2.19726334e-03 -1.08846467e-02\n",
      " -7.93857388e-03  6.00278416e-03  2.87703214e-03 -4.35620444e-03\n",
      "  1.20984227e-02 -6.55706607e-03  2.67530699e-03  4.51306384e-03\n",
      "  6.16341651e-03  1.49024048e-02  1.45444377e-02 -7.51653065e-03\n",
      "  3.28798973e-04  1.25623859e-02 -1.75278988e-02 -3.82541806e-02\n",
      " -1.30394543e-02 -7.71160529e-03  2.18236021e-03 -1.38805520e-02\n",
      " -2.63780546e-03  5.54440285e-02 -1.08161447e-02 -1.42460139e-03\n",
      " -2.94012491e-03 -5.30350135e-04  4.68946051e-03 -3.27906358e-03\n",
      "  1.81094018e-03  5.73759314e-03  8.07469117e-03 -2.25678300e-03\n",
      " -1.61746445e-02 -8.82788721e-04 -2.74801279e-03  1.37027444e-02\n",
      " -1.34776696e-02 -5.20953896e-04 -1.02788381e-02  1.80396886e-02\n",
      "  4.69819850e-03 -5.25576839e-04  2.38567672e-02 -1.15390670e-02\n",
      "  1.25453613e-03  1.01447999e-02 -8.75727034e-03  9.13030180e-03\n",
      "  4.33169885e-03  3.72044640e-03 -5.40796163e-03 -2.04035922e-04\n",
      "  1.90183976e-03 -2.08439010e-02  4.27152472e-04  5.53417715e-03\n",
      "  1.65929107e-02  7.49643344e-03 -6.59694654e-03 -1.33904401e-02\n",
      "  6.78002238e-03  2.35200656e-02  1.08070116e-02 -2.69091541e-03\n",
      "  6.18354422e-03  7.87522844e-04  4.40221775e-03  3.85803659e-03\n",
      " -2.95098735e-03 -4.79189048e-03  7.25311159e-03  2.21933708e-01]\n"
     ]
    }
   ],
   "source": [
    "# Get weights for ridge regression\n",
    "lambdaVal = 100\n",
    "\n",
    "xtx = np.dot(np.transpose(trainDataX), trainDataX)\n",
    "lambdaIdentity = lambdaVal * np.identity(trainDataX.shape[1])\n",
    "xtxLambdaInv = np.linalg.inv(xtx + lambdaIdentity)\n",
    "xtxLambdaInvXt = np.dot(xtxLambdaInv, np.transpose(trainDataX))\n",
    "ridgeRegressionWeights = np.dot(xtxLambdaInvXt, trainDataY)\n",
    "print(\"Ridge Regression Weights:\\n\", ridgeRegressionWeights)"
   ]
  },
  {
   "cell_type": "markdown",
   "metadata": {},
   "source": [
    "### Part 3: Prediction\n",
    "Get prediction by computing the dot product between the weights and samples"
   ]
  },
  {
   "cell_type": "code",
   "execution_count": 104,
   "metadata": {},
   "outputs": [],
   "source": [
    "linearPredTrain = np.dot(linearRegressionWeights, np.transpose(trainDataX))\n",
    "linearPredTest = np.dot(linearRegressionWeights, np.transpose(testDataX))\n",
    "# print(linearPredTrain)\n",
    "# print(linearPredTest)"
   ]
  },
  {
   "cell_type": "code",
   "execution_count": 105,
   "metadata": {},
   "outputs": [],
   "source": [
    "ridgePredTrain = np.dot(ridgeRegressionWeights, np.transpose(trainDataX))\n",
    "ridgePredTest = np.dot(ridgeRegressionWeights, np.transpose(testDataX))\n",
    "# print(ridgePredTrain)\n",
    "# print(ridgePredTest)"
   ]
  },
  {
   "cell_type": "markdown",
   "metadata": {},
   "source": [
    "### Part 4: Evaluation\n",
    "Evaluate the model using Root Mean Squared Error (RMSE):\n",
    "$$RMSE = \\sqrt{\\frac{(y_{pred}-y_{gnd})^2}{m}}$$"
   ]
  },
  {
   "cell_type": "code",
   "execution_count": 106,
   "metadata": {},
   "outputs": [
    {
     "name": "stdout",
     "output_type": "stream",
     "text": [
      "Linear Training RMSE: 0.128\n"
     ]
    }
   ],
   "source": [
    "m = len(linearPredTrain)\n",
    "linearTrainRMSE = np.sqrt(np.sum(np.square(linearPredTrain - trainDataY))/m)\n",
    "print(\"Linear Training RMSE:\", round(linearTrainRMSE, 3))"
   ]
  },
  {
   "cell_type": "code",
   "execution_count": 107,
   "metadata": {},
   "outputs": [
    {
     "name": "stdout",
     "output_type": "stream",
     "text": [
      "Linear Testing RMSE: 0.146\n"
     ]
    }
   ],
   "source": [
    "m = len(linearPredTest)\n",
    "linearTestRMSE = np.sqrt(np.sum(np.square(linearPredTest - testDataY))/m)\n",
    "print(\"Linear Testing RMSE:\", round(linearTestRMSE, 3))"
   ]
  },
  {
   "cell_type": "code",
   "execution_count": 108,
   "metadata": {},
   "outputs": [
    {
     "name": "stdout",
     "output_type": "stream",
     "text": [
      "Ridge Training RMSE: 0.131\n"
     ]
    }
   ],
   "source": [
    "m = len(ridgePredTrain)\n",
    "ridgeTrainRMSE = np.sqrt(np.sum(np.square(ridgePredTrain - trainDataY))/m)\n",
    "print(\"Ridge Training RMSE:\", round(ridgeTrainRMSE, 3))"
   ]
  },
  {
   "cell_type": "code",
   "execution_count": 109,
   "metadata": {},
   "outputs": [
    {
     "name": "stdout",
     "output_type": "stream",
     "text": [
      "Ridge Testing RMSE: 0.148\n"
     ]
    }
   ],
   "source": [
    "m = len(ridgePredTest)\n",
    "ridgeTestRMSE = np.sqrt(np.sum(np.square(ridgePredTest - testDataY))/m)\n",
    "print(\"Ridge Testing RMSE:\", round(ridgeTestRMSE, 3))"
   ]
  }
 ],
 "metadata": {
  "kernelspec": {
   "display_name": "coen140L",
   "language": "python",
   "name": "python3"
  },
  "language_info": {
   "codemirror_mode": {
    "name": "ipython",
    "version": 3
   },
   "file_extension": ".py",
   "mimetype": "text/x-python",
   "name": "python",
   "nbconvert_exporter": "python",
   "pygments_lexer": "ipython3",
   "version": "3.12.6"
  }
 },
 "nbformat": 4,
 "nbformat_minor": 2
}
