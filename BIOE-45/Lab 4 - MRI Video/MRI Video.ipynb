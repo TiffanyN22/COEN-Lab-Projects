{
 "cells": [
  {
   "cell_type": "markdown",
   "id": "3de17407-47a0-4657-b3f3-249f675835c5",
   "metadata": {},
   "source": [
    "# MRI Video\n",
    "## by Tiffany Nguyen\n",
    "### Description\n",
    "This project creates a video to visualize the brain from a top, back, and side view using MRI slices in NIfTI files"
   ]
  },
  {
   "cell_type": "code",
   "execution_count": 4,
   "id": "7f46f63e-923e-4be5-943f-d993b79c5719",
   "metadata": {},
   "outputs": [
    {
     "name": "stdout",
     "output_type": "stream",
     "text": [
      "Requirement already satisfied: nibabel in /opt/anaconda3/lib/python3.11/site-packages (5.2.1)\n",
      "Requirement already satisfied: opencv-python in /opt/anaconda3/lib/python3.11/site-packages (4.9.0.80)\n",
      "Requirement already satisfied: numpy>=1.20 in /opt/anaconda3/lib/python3.11/site-packages (from nibabel) (1.26.4)\n",
      "Requirement already satisfied: packaging>=17 in /opt/anaconda3/lib/python3.11/site-packages (from nibabel) (23.1)\n",
      "Note: you may need to restart the kernel to use updated packages.\n"
     ]
    }
   ],
   "source": [
    "pip install nibabel opencv-python"
   ]
  },
  {
   "cell_type": "code",
   "execution_count": 1,
   "id": "d5a49335-1a54-4130-b029-9195997fa54f",
   "metadata": {},
   "outputs": [],
   "source": [
    "import nibabel as nib\n",
    "import cv2\n",
    "import numpy as np"
   ]
  },
  {
   "cell_type": "code",
   "execution_count": 2,
   "id": "8d5b80ec-3eab-48e7-b7ef-29dbf638a176",
   "metadata": {},
   "outputs": [],
   "source": [
    "# Read NIfTI files\n",
    "V1 = nib.load('/Users/tiffanynguyen/Downloads/tagged/SCU/BIOE 45/Lab/Week 6/MRI/T1GD.nii.gz').get_fdata()\n",
    "V2 = nib.load('/Users/tiffanynguyen/Downloads/tagged/SCU/BIOE 45/Lab/Week 6/MRI/T2.nii.gz').get_fdata()\n",
    "V3 = nib.load('/Users/tiffanynguyen/Downloads/tagged/SCU/BIOE 45/Lab/Week 6/MRI/FLAIR.nii.gz').get_fdata()"
   ]
  },
  {
   "cell_type": "code",
   "execution_count": 3,
   "id": "f41793d4-7455-4d3d-a4d6-637da3d1cecc",
   "metadata": {},
   "outputs": [],
   "source": [
    "# Create a VideoWriter object\n",
    "outputVideoPath = '/Users/tiffanynguyen/Downloads/tagged/SCU/BIOE 45/Lab/Week 6/python_output_video.mp4'\n",
    "outputVideo = cv2.VideoWriter(outputVideoPath, cv2.VideoWriter_fourcc(*\"mp4v\"), 20, (V1.shape[1], V1.shape[0]))"
   ]
  },
  {
   "cell_type": "code",
   "execution_count": 4,
   "id": "9feb8069-aaf1-4c54-aedc-9f690654264e",
   "metadata": {},
   "outputs": [
    {
     "name": "stdout",
     "output_type": "stream",
     "text": [
      "Video creation complete.\n"
     ]
    }
   ],
   "source": [
    "# Loop through slices in the NIfTI volume and write frames to the video\n",
    "#get Top View\n",
    "for sliceIndex in range(V1.shape[2]):\n",
    "    # Extract the current slice\n",
    "    currentSlice = V1[:, :, sliceIndex]\n",
    "\n",
    "    # Normalize intensity values if needed\n",
    "    currentSlice = cv2.normalize(currentSlice, None, 0, 255, cv2.NORM_MINMAX)\n",
    "\n",
    "    # Display the current slice (just black and white based on red intensity)\n",
    "    cv2.imshow('MRI Slice', currentSlice)\n",
    "    \n",
    "    # Combine slices into an RGB image for better visualization\n",
    "    RGB_top = cv2.merge([ #move along z index while viewing xy plane\n",
    "        cv2.normalize(V1[:, :, sliceIndex], None, 0, 255, cv2.NORM_MINMAX),\n",
    "        cv2.normalize(V2[:, :, sliceIndex], None, 0, 255, cv2.NORM_MINMAX),\n",
    "        cv2.normalize(V3[:, :, sliceIndex], None, 0, 255, cv2.NORM_MINMAX)\n",
    "    ])\n",
    "\n",
    "    #Display the colored slice\n",
    "    cv2.imshow('MRI Slice Top View', cv2.cvtColor(RGB_top.astype('uint8'), cv2.COLOR_BGR2RGB))\n",
    "    cv2.waitKey(20)\n",
    "\n",
    "    # Write the current frame to the video\n",
    "    outputVideo.write(cv2.cvtColor(RGB_top.astype('uint8'), cv2.COLOR_BGR2RGB))\n",
    "\n",
    "# Get Back View\n",
    "for sliceIndex in range(V1.shape[1]):\n",
    "    # Combine slices into an RGB image for better visualization\n",
    "    RGB_back = cv2.merge([ #change y index to view xz plane\n",
    "        cv2.normalize(V1[:, sliceIndex, :], None, 0, 255, cv2.NORM_MINMAX),\n",
    "        cv2.normalize(V2[:, sliceIndex, :], None, 0, 255, cv2.NORM_MINMAX),\n",
    "        cv2.normalize(V3[:, sliceIndex, :], None, 0, 255, cv2.NORM_MINMAX)\n",
    "    ])\n",
    "    \n",
    "    #Display the colored slice\n",
    "    cv2.imshow('MRI Slice Back View', cv2.cvtColor(RGB_back.astype('uint8'), cv2.COLOR_BGR2RGB))\n",
    "    cv2.waitKey(20)\n",
    "\n",
    "    # Add black padding to right of image for video (since image is 240x155 instead of 240x240)\n",
    "    zero_matrix = np.zeros((240, 240-155,3));\n",
    "    RGB_back_padded = np.concatenate((RGB_back, zero_matrix), axis=1)\n",
    "    \n",
    "    # Write the current frame to the video\n",
    "    outputVideo.write(cv2.cvtColor(RGB_back_padded.astype('uint8'), cv2.COLOR_BGR2RGB))\n",
    "\n",
    "#Get Side View\n",
    "for sliceIndex in range(V1.shape[0]):\n",
    "    # Combine slices into an RGB image for better visualization\n",
    "    RGB_side = cv2.merge([ #change x index to view yz plane\n",
    "        cv2.normalize(V1[sliceIndex, :, :], None, 0, 255, cv2.NORM_MINMAX),\n",
    "        cv2.normalize(V2[sliceIndex, :, :], None, 0, 255, cv2.NORM_MINMAX),\n",
    "        cv2.normalize(V3[sliceIndex, :, :], None, 0, 255, cv2.NORM_MINMAX)\n",
    "    ])\n",
    "\n",
    "    #Display the colored slice\n",
    "    cv2.imshow('MRI Slice Side View', cv2.cvtColor(RGB_side.astype('uint8'), cv2.COLOR_BGR2RGB))\n",
    "    cv2.waitKey(20)    \n",
    "\n",
    "    # Add black padding to right of image for video (since image is 240x155 instead of 240x240)\n",
    "    zero_matrix = np.zeros((240, 240-155,3));\n",
    "    RGB_side_padded = np.concatenate((RGB_side, zero_matrix), axis=1)\n",
    "\n",
    "    # Write the current frame to the video\n",
    "    outputVideo.write(cv2.cvtColor(RGB_side_padded.astype('uint8'), cv2.COLOR_BGR2RGB))\n",
    "\n",
    "# Release the video writer\n",
    "outputVideo.release()\n",
    "cv2.destroyAllWindows()\n",
    "print('Video creation complete.')"
   ]
  },
  {
   "cell_type": "code",
   "execution_count": null,
   "id": "28517fe6-15a5-4c7a-84cd-7d8a8ac3f514",
   "metadata": {},
   "outputs": [],
   "source": []
  }
 ],
 "metadata": {
  "kernelspec": {
   "display_name": "Python 3 (ipykernel)",
   "language": "python",
   "name": "python3"
  },
  "language_info": {
   "codemirror_mode": {
    "name": "ipython",
    "version": 3
   },
   "file_extension": ".py",
   "mimetype": "text/x-python",
   "name": "python",
   "nbconvert_exporter": "python",
   "pygments_lexer": "ipython3",
   "version": "3.11.7"
  }
 },
 "nbformat": 4,
 "nbformat_minor": 5
}
