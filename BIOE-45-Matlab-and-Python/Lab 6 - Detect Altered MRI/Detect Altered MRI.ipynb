{
 "cells": [
  {
   "cell_type": "markdown",
   "id": "c9ef0104",
   "metadata": {},
   "source": [
    "# Detect Altered MRI Image\n",
    "### by Tiffany Nguyen\n",
    "### Description\n",
    "The purpose of this assignment is to read all images within a folder and detect the altered image. There should only be one altered image."
   ]
  },
  {
   "cell_type": "code",
   "execution_count": 46,
   "id": "522f4497",
   "metadata": {},
   "outputs": [],
   "source": [
    "import cv2\n",
    "import numpy as np\n",
    "import os "
   ]
  },
  {
   "cell_type": "code",
   "execution_count": 47,
   "id": "9a3156de",
   "metadata": {},
   "outputs": [
    {
     "name": "stdout",
     "output_type": "stream",
     "text": [
      "['K.jpg', 'J.jpg', 'H.jpg', 'I.jpg', 'Z.jpg', 'M.jpg', 'L.jpg', 'Y.jpg', 'N.jpg', 'O.jpg', 'X.jpg', 'U.jpg', 'B.jpg', 'C.jpg', 'T.jpg', 'V.jpg', 'A.jpg', 'W.jpg', 'D.jpg', 'S.jpg', 'R.jpg', 'E.jpg', 'G.jpg', 'P.jpg', 'Q.jpg', 'F.jpg']\n"
     ]
    }
   ],
   "source": [
    "# Read all images in folder\n",
    "folder_path = '/Users/tiffanynguyen/Downloads/tagged/SCU/BIOE 45/Lab/week 9/JPG/'\n",
    "mri_images_dir = os.listdir(folder_path)\n",
    "print(mri_images_dir)"
   ]
  },
  {
   "cell_type": "code",
   "execution_count": 48,
   "id": "ef654c26",
   "metadata": {},
   "outputs": [
    {
     "name": "stdout",
     "output_type": "stream",
     "text": [
      "H.jpg is different\n"
     ]
    }
   ],
   "source": [
    "deafult_img_name = 'a.jpg'\n",
    "default_img = cv2.imread(folder_path + deafult_img_name) #read default\n",
    "diff_img = \"\"\n",
    "diff_count = 0\n",
    "\n",
    "for i in range(2, len(mri_images_dir)):\n",
    "    # Read current image\n",
    "    filename = folder_path + str(mri_images_dir[i])\n",
    "    cur_img = cv2.imread(filename);\n",
    "    \n",
    "    # Compare current image with default image\n",
    "    difference = default_img - cur_img;\n",
    "    diff_sum = np.sum(difference);\n",
    "    if diff_sum != 0: #check if different\n",
    "        diff_img = mri_images_dir[i];\n",
    "        diff_count += 1\n",
    "\n",
    "if diff_count != 1: #there should only be one diff image, so if we find a second different, default is wrong\n",
    "    print(deafult_img_name + \" is different\")\n",
    "else:\n",
    "    print(diff_img + \" is different\")"
   ]
  },
  {
   "cell_type": "code",
   "execution_count": null,
   "id": "42c5772a",
   "metadata": {},
   "outputs": [],
   "source": []
  }
 ],
 "metadata": {
  "kernelspec": {
   "display_name": "Python 3 (ipykernel)",
   "language": "python",
   "name": "python3"
  },
  "language_info": {
   "codemirror_mode": {
    "name": "ipython",
    "version": 3
   },
   "file_extension": ".py",
   "mimetype": "text/x-python",
   "name": "python",
   "nbconvert_exporter": "python",
   "pygments_lexer": "ipython3",
   "version": "3.11.7"
  }
 },
 "nbformat": 4,
 "nbformat_minor": 5
}
