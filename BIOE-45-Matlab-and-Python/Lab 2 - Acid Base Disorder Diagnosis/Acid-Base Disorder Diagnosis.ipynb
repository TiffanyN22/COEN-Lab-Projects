{
 "cells": [
  {
   "cell_type": "markdown",
   "id": "8d88a224-5ce7-414a-9936-087662bc5dfd",
   "metadata": {},
   "source": [
    "# Acid-Base Disorder Diagnosis\n",
    "## by Tiffany Nguyen\n",
    "### Objective\n",
    "Implement an `acidBaseDiagnosis` function to diagnose acid-base disorders. The function will take in information about pH, bicarbonate, and PCO2 levels as parameters, and display information about the patient's acid-base condition and compensation if it's present."
   ]
  },
  {
   "cell_type": "code",
   "execution_count": 23,
   "id": "60da4092-d933-4180-9a55-bdea74e9591d",
   "metadata": {},
   "outputs": [],
   "source": [
    "#Function to diagnose acid-base disorders\n",
    "def acidBaseDiagnosis(pH, bicarbonate, PCO2):\n",
    "    \"\"\"\n",
    "    acidBaseDiagnosis - provides information about acid base diagnosis\n",
    "    \n",
    "    Parameters:\n",
    "    pH (float): pH value\n",
    "    bicarbonate (float): bicarbonate concentration (in units of mEq/L)\n",
    "    PCO2 (float): PCO2 pressure (in units of mmHg)\n",
    "    \n",
    "    Returns:\n",
    "    nothing\n",
    "\n",
    "    Output: \n",
    "    prints out acid-base diagonosis and compensation if present\n",
    "    \"\"\"\n",
    "    if pH < 7.4:\n",
    "        #acidosis\n",
    "        if bicarbonate < 24: #Metabolic Acidiosis when HCO3- is < 24\n",
    "            print(\"Diagnosis: Metabolic Acidiosis\")\n",
    "            if PCO2 < 40: #check compensation if have Metabolic Acidiosis\n",
    "                print(\"Respiratory compensation present\")\n",
    "        if PCO2 > 40: #if, not else if, because can have both Metabolic Acidiosis and Respiratory acidosis\n",
    "            print(\"Diagnosis: Respiratory acidosis\")\n",
    "            if bicarbonate > 24:\n",
    "               print(\"Renal compensation present\")\n",
    "    elif pH > 7.4: #use elseif not else so doesn't get displayed when pH = 7.4\n",
    "        #alkalosis\n",
    "        if bicarbonate > 24:\n",
    "            print(\"Diagnosis: Metabolic alkalosis\")\n",
    "            if PCO2 > 40:\n",
    "                print(\"Respiratory compensation present\")\n",
    "        if PCO2 < 40:\n",
    "            print(\"Diagnosis: Respiratory alkalosis\")\n",
    "            if bicarbonate < 24:\n",
    "                print(\"Renal Compensation present\")"
   ]
  },
  {
   "cell_type": "code",
   "execution_count": 25,
   "id": "46cd9fd3-1713-481c-ae2b-9ffa61a960bd",
   "metadata": {},
   "outputs": [
    {
     "name": "stdout",
     "output_type": "stream",
     "text": [
      "Test 1: pH = 9, Bicarbonate = 25 mEq/L, PCO2 = 45mmHg\n",
      "Diagnosis: Metabolic alkalosis\n",
      "Respiratory compensation present\n",
      "\n",
      "Test 2: pH = 9, Bicarbonate = 25 mEq/L, PCO2 = 30mmHg\n",
      "Diagnosis: Metabolic alkalosis\n",
      "Diagnosis: Respiratory alkalosis\n",
      "\n",
      "Test 3: pH = 7, Bicarbonate = 25 mEq/L, PCO2 = 45mmHg\n",
      "Diagnosis: Respiratory acidosis\n",
      "Renal compensation present\n",
      "\n",
      "Test 4: pH = 9, Bicarbonate = 20 mEq/L, PCO2 = 45mmHg\n",
      "\n",
      "Test 5: pH = 6, Bicarbonate = 21 mEq/L, PCO2 = 42mmHg\n",
      "Diagnosis: Metabolic Acidiosis\n",
      "Diagnosis: Respiratory acidosis\n"
     ]
    }
   ],
   "source": [
    "#Test\n",
    "print(\"Test 1: pH = 9, Bicarbonate = 25 mEq/L, PCO2 = 45mmHg\")\n",
    "acidBaseDiagnosis(9, 25, 45)\n",
    "print(\"\\nTest 2: pH = 9, Bicarbonate = 25 mEq/L, PCO2 = 30mmHg\")\n",
    "acidBaseDiagnosis(9, 25, 30)\n",
    "print(\"\\nTest 3: pH = 7, Bicarbonate = 25 mEq/L, PCO2 = 45mmHg\")\n",
    "acidBaseDiagnosis(7, 25, 45)\n",
    "print(\"\\nTest 4: pH = 9, Bicarbonate = 20 mEq/L, PCO2 = 45mmHg\")\n",
    "acidBaseDiagnosis(9, 20, 45) #nothing since it doesn't fit either condition for metabolic alkalosis or respiratory alkalosis\n",
    "print(\"\\nTest 5: pH = 6, Bicarbonate = 21 mEq/L, PCO2 = 42mmHg\")\n",
    "acidBaseDiagnosis(6, 21, 42)"
   ]
  },
  {
   "cell_type": "code",
   "execution_count": null,
   "id": "19d9361b-97f5-416b-b54c-ca6fa400d8fd",
   "metadata": {},
   "outputs": [],
   "source": []
  }
 ],
 "metadata": {
  "kernelspec": {
   "display_name": "Python 3 (ipykernel)",
   "language": "python",
   "name": "python3"
  },
  "language_info": {
   "codemirror_mode": {
    "name": "ipython",
    "version": 3
   },
   "file_extension": ".py",
   "mimetype": "text/x-python",
   "name": "python",
   "nbconvert_exporter": "python",
   "pygments_lexer": "ipython3",
   "version": "3.11.7"
  }
 },
 "nbformat": 4,
 "nbformat_minor": 5
}
